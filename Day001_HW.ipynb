{
 "cells": [
  {
   "cell_type": "markdown",
   "metadata": {},
   "source": [
    "# 資料來源與檔案存取\n",
    "\n",
    "* 資料來源與檔案存取\n",
    "* 資料來源與取得\n",
    "* 開放資料\n",
    "* 資料儲存格式\n",
    "* Python 存取檔案"
   ]
  },
  {
   "cell_type": "markdown",
   "metadata": {},
   "source": [
    "jupyter markdown 編輯格式:\n",
    "\n",
    "* \"# \"+標題 => 最大標題\n",
    "* \"* \"+內文 => ●縮排內文\n",
    "* 編輯時，換一行markdown會以一行連在一起呈現，enter兩行才會換行顯示\n",
    "* 編輯時，若不想跳兩行，\"* \"、\"1. \"、\"** \"，皆會換行縮排顯示\n",
    "\n",
    "(記得執行)"
   ]
  },
  {
   "cell_type": "markdown",
   "metadata": {},
   "source": [
    "## 作業目標\n",
    "\n",
    "* 1.（簡答題）檔案、API、爬蟲三種取得資料方式有什麼不同？\n",
    "* 2.（實作）完成一個程式，需滿足下列需求：\n",
    "    * 下載指定檔案到 Data 資料夾，存成檔名 Homework.txt\n",
    "    * 檢查 Data 資料夾是否有 Homework.txt 檔名之檔案\n",
    "    * 將「Hello World」字串覆寫到 Homework.txt 檔案\n",
    "    * 檢查 Homework.txt 檔案字數是否符合 Hello World 字數"
   ]
  },
  {
   "cell_type": "markdown",
   "metadata": {},
   "source": [
    "* \"## \"+標題 => 次大標題\n",
    "* \"* \"+內容 => ●縮排內文\n",
    "* \"tab鍵\"+\"* \"+內容 => ■縮排內文\n",
    "\n",
    "  \"### \"最小標題\n"
   ]
  },
  {
   "cell_type": "markdown",
   "metadata": {},
   "source": [
    "### 1.（簡答題）檔案、API、爬蟲三種取得資料方式有什麼不同\n",
    "1. 檔案：資料由擁有者主動釋出，釋出者會將資料包成檔案提供下載，格式可能包含常用的標準格式，例如CSV、JSON等。\n",
    "2. API：資料由擁有者主動釋出，釋出者提供提供程式化的連接的接口，讓工程師/分析師可以選擇資料中要讀取的特定部分，而不需要把整批資料事先完整下載回來\n",
    "3. 爬蟲：資料擁有者沒有提供檔案或API，但卻出現在網頁上，是擁有者被動公開的。公開者利用爬蟲程式，將網頁的資料解析所需的部分。"
   ]
  },
  {
   "cell_type": "markdown",
   "metadata": {},
   "source": [
    "### 2.（實作）完成一個程式，需滿足下列需求：\n",
    "    * 下載指定檔案到 Data 資料夾，存成檔名 Homework.txt\n",
    "    * 檢查 Data 資料夾是否有 Homework.txt 檔名之檔案\n",
    "    * 將「Hello World」字串覆寫到 Homework.txt 檔案\n",
    "    * 檢查 Homework.txt 檔案字數是否符合 Hello World 字數"
   ]
  },
  {
   "cell_type": "code",
   "execution_count": 1,
   "metadata": {},
   "outputs": [],
   "source": [
    "# 下載檔案到指定資料夾"
   ]
  },
  {
   "cell_type": "code",
   "execution_count": 2,
   "metadata": {},
   "outputs": [
    {
     "data": {
      "text/plain": [
       "('D:\\\\Bobby coding\\\\PyCrawlerMaratho\\\\data\\\\HW001download.txt',\n",
       " <http.client.HTTPMessage at 0x2925b32fe48>)"
      ]
     },
     "execution_count": 2,
     "metadata": {},
     "output_type": "execute_result"
    }
   ],
   "source": [
    "from urllib.request import urlretrieve # 從urllib函式庫的 urllib.request模組 引入 urlretrieve函式，以下載檔案\n",
    "# urllib是一個網路資源的函式庫 #通常撰寫軟體裡面本來就有，所以不需要import \n",
    "# urllib.request是裡面的一個模組\n",
    "# urlretrieve是裡面一個用來 下載檔案 的函式\n",
    "\n",
    "urlretrieve(\"https://www.w3.org/TR/PNG/iso_8859-1.txt\",\"D:\\Bobby coding\\PyCrawlerMaratho\\data\\HW001download.txt\")\n",
    "# urlretrieve(\"檔案網址\", \"存檔路徑+存檔檔名\")\n",
    "# \"D:\\Bobby coding\\PyCrawlerMaratho\\data.txt\" =>會在\"PyCrawlerMarathon\"資料夾內建立一個叫\"data\",副檔名為.txt 的檔案\n",
    "# \"D:\\Bobby coding\\PyCrawlerMaratho\\data\\.txt\" =>會在\"PyCrawlerMarathon\"裡的\"data\"資料夾內建立一個沒有名稱的.txt 檔\n",
    "# \"D:\\Bobby coding\\PyCrawlerMaratho\\data\\HW001download.txt\"\n",
    "# 數字開頭不能為檔名"
   ]
  },
  {
   "cell_type": "code",
   "execution_count": 3,
   "metadata": {},
   "outputs": [],
   "source": [
    "# 檢查資料夾是否有 HW001download.txt 檔名之檔案"
   ]
  },
  {
   "cell_type": "code",
   "execution_count": 4,
   "metadata": {},
   "outputs": [
    {
     "name": "stdout",
     "output_type": "stream",
     "text": [
      "HW001download.txt\n",
      "yes\n"
     ]
    }
   ],
   "source": [
    "import os  # os模組:用來處理檔名、路徑、目錄的模組\n",
    "\n",
    "dirs=os.listdir(\"D:\\Bobby coding\\PyCrawlerMaratho\\data\") #os.listdir(路徑):回傳該位置的檔案目錄 #路徑預設是C槽,我們放在D槽所以要打絕對路徑\n",
    "for file in dirs:\n",
    "    print(file) #逐一列出homework資料夾裡的檔案 #回傳的形式為字串 \n",
    "    \n",
    "    if \"HW001download.txt\" in file:\n",
    "        print(\"yes\")\n",
    "    else:\n",
    "        print(\"no\")\n"
   ]
  },
  {
   "cell_type": "code",
   "execution_count": 5,
   "metadata": {},
   "outputs": [],
   "source": [
    "# 將「Hello World」字串覆寫到 HW001download.txt 檔案\n",
    "# 並檢查字數是否符合"
   ]
  },
  {
   "cell_type": "code",
   "execution_count": 6,
   "metadata": {},
   "outputs": [
    {
     "name": "stdout",
     "output_type": "stream",
     "text": [
      "<_io.TextIOWrapper name='HW001download.txt' mode='w' encoding='cp950'>\n",
      "OMG\n",
      "11\n",
      "Hello World\n",
      "字數符合\n"
     ]
    }
   ],
   "source": [
    "with open (\"HW001download.txt\",\"w\") as file:   \n",
    "    file.write(\"OMG\")   #覆寫檔案成\"OMG\"\n",
    "    print(file)    #直接把file印出來，會輸出檔案資訊\n",
    "    \n",
    "with open (\"HW001download.txt\",\"r\") as file:\n",
    "    r=file.read()    #如果想印出檔案內文，必須給讀取檔案宣告一個變數\n",
    "    print(r)    #再把變數印出來，就會輸出內文\n",
    "\n",
    "with open (\"HW001download.txt\",\"w\") as file:\n",
    "    w=file.write(\"Hello World\")    #複寫檔案成\"Hello World\"\n",
    "    print(w)    #這裡開啟檔案的形式是\"write\" #print出來會是字串長度\n",
    "\n",
    "with open (\"HW001download.txt\",\"r\") as file:\n",
    "    f=file.read()    #如果想印出內文，必須用\"read\"的形式打開檔案，並給讀取檔案宣告一個變數\n",
    "    print(f)\n",
    "    \n",
    "if len(f)==len(\"Hello world\"):\n",
    "    print(\"字數符合\")\n",
    "else:\n",
    "    print(\"字數不符\")"
   ]
  },
  {
   "cell_type": "code",
   "execution_count": null,
   "metadata": {},
   "outputs": [],
   "source": []
  }
 ],
 "metadata": {
  "kernelspec": {
   "display_name": "Python 3",
   "language": "python",
   "name": "python3"
  },
  "language_info": {
   "codemirror_mode": {
    "name": "ipython",
    "version": 3
   },
   "file_extension": ".py",
   "mimetype": "text/x-python",
   "name": "python",
   "nbconvert_exporter": "python",
   "pygments_lexer": "ipython3",
   "version": "3.7.4"
  }
 },
 "nbformat": 4,
 "nbformat_minor": 2
}
